{
  "nbformat": 4,
  "nbformat_minor": 0,
  "metadata": {
    "colab": {
      "name": "fashion MNIST_tensorflow version.ipynb",
      "provenance": [],
      "collapsed_sections": [],
      "authorship_tag": "ABX9TyODp3KAxozSj3DG2Yza/adb",
      "include_colab_link": true
    },
    "kernelspec": {
      "name": "python3",
      "display_name": "Python 3"
    },
    "language_info": {
      "name": "python"
    },
    "accelerator": "GPU"
  },
  "cells": [
    {
      "cell_type": "markdown",
      "metadata": {
        "id": "view-in-github",
        "colab_type": "text"
      },
      "source": [
        "<a href=\"https://colab.research.google.com/github/seojeong-oh/mom-dad-lab/blob/main/fashion_MNIST_tensorflow_version.ipynb\" target=\"_parent\"><img src=\"https://colab.research.google.com/assets/colab-badge.svg\" alt=\"Open In Colab\"/></a>"
      ]
    },
    {
      "cell_type": "markdown",
      "source": [
        "# **필요한 모듈 불러오기**"
      ],
      "metadata": {
        "id": "75dUqSuceNP9"
      }
    },
    {
      "cell_type": "code",
      "source": [
        "import tensorflow as tf\n",
        "import numpy as np\n",
        "import matplotlib.pyplot as plt"
      ],
      "metadata": {
        "id": "dkRjdPcceKw2"
      },
      "execution_count": null,
      "outputs": []
    },
    {
      "cell_type": "markdown",
      "source": [
        "# Fashion MNIST 데이터셋 불러오기"
      ],
      "metadata": {
        "id": "wFVOWpm3XKqH"
      }
    },
    {
      "cell_type": "code",
      "execution_count": null,
      "metadata": {
        "id": "YMblbPCwQAGS"
      },
      "outputs": [],
      "source": [
        "fashion_mnist = tf.keras.datasets.fashion_mnist\n",
        "(train_images, train_labels), (test_images, test_labels) = fashion_mnist.load_data()"
      ]
    },
    {
      "cell_type": "markdown",
      "source": [
        "fashion_mnist 모듈은 데이터셋을 반환하는 load_data() 함수를 포함하는데, load_data() 함수를 호출하면 NumPy 어레이의 튜플을 반환함\n",
        "\n",
        "train_images와 train_labels는 Neural Network 모델의 훈련 (training)에 사용되고,\n",
        "\n",
        "test_images와 test_labels는 테스트 (test)에 사용"
      ],
      "metadata": {
        "id": "FcBEyAgyXWBf"
      }
    },
    {
      "cell_type": "code",
      "source": [
        "print(train_images.shape)\n",
        "print(train_labels.shape)\n",
        "print(test_images.shape)\n",
        "print(test_labels.shape)\n",
        "print(train_labels[:8])"
      ],
      "metadata": {
        "colab": {
          "base_uri": "https://localhost:8080/"
        },
        "id": "BMzt4_LaXQhs",
        "outputId": "944c72ba-4203-4b76-b1e4-694778a068e1"
      },
      "execution_count": null,
      "outputs": [
        {
          "output_type": "stream",
          "name": "stdout",
          "text": [
            "(60000, 28, 28)\n",
            "(60000,)\n",
            "(10000, 28, 28)\n",
            "(10000,)\n",
            "[9 0 0 3 0 2 7 2]\n"
          ]
        }
      ]
    },
    {
      "cell_type": "markdown",
      "source": [
        "**images**\n",
        "\n",
        "*   train_images와 test_images는 각각 (28x28)의 형태를 갖는 60000개, 10000개 이미지의 어레이,\n",
        "\n",
        "\n",
        "**labels**\n",
        "\n",
        "\n",
        "*   0에서 9까지의 정수 값은 이미지(옷)의 클래스를 나타내는 레이블\n",
        "\n",
        "각각의 레이블과 클래스는 아래와 같다.\n",
        "\n",
        "0 : T-shirt/top\n",
        "\n",
        "1 : Trouser\n",
        "\n",
        "2 : Pullover\n",
        "\n",
        "3 : Dress\n",
        "\n",
        "4 : Coat\n",
        "\n",
        "5 : Sandal\n",
        "\n",
        "6 : Shirt\n",
        "\n",
        "7 : Sneaker\n",
        "\n",
        "8 : Bag\n",
        "\n",
        "9 : Ankel boot\n"
      ],
      "metadata": {
        "id": "1Ya0f4JKX1IA"
      }
    },
    {
      "cell_type": "markdown",
      "source": [
        "# **데이터 전처리**"
      ],
      "metadata": {
        "id": "1EMmg-ytYq6m"
      }
    },
    {
      "cell_type": "code",
      "source": [
        "#0에서 255 사이의 값을 갖는 훈련/테스트 데이터들을 0.0~1.0 사이의 값을 갖도록 변환\n",
        "train_images, test_images = train_images / 255.0, test_images / 255.0"
      ],
      "metadata": {
        "id": "C-GQN0s-X7s3"
      },
      "execution_count": null,
      "outputs": []
    },
    {
      "cell_type": "markdown",
      "source": [
        "# **모델 구성(layer 3개)**"
      ],
      "metadata": {
        "id": "57uWlr30Y0Gn"
      }
    },
    {
      "cell_type": "code",
      "source": [
        "model = tf.keras.models.Sequential([\n",
        "    tf.keras.layers.Flatten(input_shape=(28, 28, 1)),\n",
        "    tf.keras.layers.Dense(128, activation='relu'),\n",
        "    tf.keras.layers.Dense(10, activation='softmax')\n",
        "])\n",
        "model.summary()"
      ],
      "metadata": {
        "colab": {
          "base_uri": "https://localhost:8080/"
        },
        "id": "-aSjptIBY402",
        "outputId": "a77365d5-98ac-4198-b375-c3a740727ea4"
      },
      "execution_count": null,
      "outputs": [
        {
          "output_type": "stream",
          "name": "stdout",
          "text": [
            "Model: \"sequential_11\"\n",
            "_________________________________________________________________\n",
            " Layer (type)                Output Shape              Param #   \n",
            "=================================================================\n",
            " flatten_12 (Flatten)        (None, 784)               0         \n",
            "                                                                 \n",
            " dense_23 (Dense)            (None, 128)               100480    \n",
            "                                                                 \n",
            " dense_24 (Dense)            (None, 10)                1290      \n",
            "                                                                 \n",
            "=================================================================\n",
            "Total params: 101,770\n",
            "Trainable params: 101,770\n",
            "Non-trainable params: 0\n",
            "_________________________________________________________________\n"
          ]
        }
      ]
    },
    {
      "cell_type": "markdown",
      "source": [
        "relu함수를 은닉층(hidden layer)에서 많이 사용하는 이유 \n",
        "1. 기울기 소실 문제가 발생하지 않음\n",
        "2. 기존 활성화 함수에 비해 속도가 매우 빠름"
      ],
      "metadata": {
        "id": "wNfQt1AveHPm"
      }
    },
    {
      "cell_type": "markdown",
      "source": [
        "## **모델 컴파일하기**"
      ],
      "metadata": {
        "id": "sWr4QN1Saaru"
      }
    },
    {
      "cell_type": "markdown",
      "source": [
        "**loss function**\n",
        "\n",
        "Binary Crossentropy : 실제 레이블과 예측 레이블 간의 교차 엔트로피 손실을 계산한다. 레이블 클래스(0, 1로 가정)가 2개만 존재할 때 사용\n",
        "\n",
        "Categorical Crossentropy : 다중 분류 손실함수로 출력값이 one-hot encoding 된 결과로 나오고 실측 결과와의 비교시에도 실측 결과는 one-hot encoding 형태로 구성\n",
        "\n",
        "Sparse_Categorical_Crossentropy : 'categorical_entropy'처럼 다중 분류 손실함수이지만, 샘플 값은 정수형 자료\n",
        "샘플 값을 입력하는 부분에서 별도 원핫 인코딩을 하지 않고 정수값 그대로 줄 수 있다. 이런 자료를 사용할 때, 컴파일 단계에서 손실 함수만  'sparse_categorical_crossentropy'로 바꿔주면 된다."
      ],
      "metadata": {
        "id": "QBy4jIRgagK2"
      }
    },
    {
      "cell_type": "code",
      "source": [
        "model.compile(optimizer='adam', # 훈련 과정에서 모델의 오차를 측정하는데 사용\n",
        "              loss='sparse_categorical_crossentropy', # 데이터와 손실함수를 바탕으로 모델을 업데이트하는 방식\n",
        "              metrics=['accuracy']) #훈련과 테스트 단계를 평가하기 위해 사용"
      ],
      "metadata": {
        "id": "bEeVndI4aeSm"
      },
      "execution_count": null,
      "outputs": []
    },
    {
      "cell_type": "markdown",
      "source": [
        "## **모델 훈련하기**"
      ],
      "metadata": {
        "id": "ORzfYnyJdCIe"
      }
    },
    {
      "cell_type": "code",
      "source": [
        "history = model.fit(train_images, train_labels, epochs=5,validation_split=0.25)#batch_sizes default값 32"
      ],
      "metadata": {
        "colab": {
          "base_uri": "https://localhost:8080/"
        },
        "id": "2s4bAK8Kc2cX",
        "outputId": "9c266178-bf0c-45dc-ecee-8a88369b3e51"
      },
      "execution_count": null,
      "outputs": [
        {
          "output_type": "stream",
          "name": "stdout",
          "text": [
            "Epoch 1/5\n",
            "1407/1407 [==============================] - 4s 3ms/step - loss: 0.5201 - accuracy: 0.8166 - val_loss: 0.4182 - val_accuracy: 0.8490\n",
            "Epoch 2/5\n",
            "1407/1407 [==============================] - 4s 3ms/step - loss: 0.3875 - accuracy: 0.8603 - val_loss: 0.3726 - val_accuracy: 0.8619\n",
            "Epoch 3/5\n",
            "1407/1407 [==============================] - 4s 3ms/step - loss: 0.3464 - accuracy: 0.8738 - val_loss: 0.3582 - val_accuracy: 0.8689\n",
            "Epoch 4/5\n",
            "1407/1407 [==============================] - 4s 3ms/step - loss: 0.3210 - accuracy: 0.8813 - val_loss: 0.3447 - val_accuracy: 0.8761\n",
            "Epoch 5/5\n",
            "1407/1407 [==============================] - 4s 3ms/step - loss: 0.3030 - accuracy: 0.8878 - val_loss: 0.3495 - val_accuracy: 0.8723\n"
          ]
        }
      ]
    },
    {
      "cell_type": "markdown",
      "source": [
        "epochs : 60000개의 전체 이미지를 몇 번 학습할지 정하기"
      ],
      "metadata": {
        "id": "5GVU0BXDdJ9G"
      }
    },
    {
      "cell_type": "markdown",
      "source": [
        "**시각화**"
      ],
      "metadata": {
        "id": "Z1if4ck0s4Wj"
      }
    },
    {
      "cell_type": "code",
      "source": [
        "plt.figure(figsize=(12, 4))\n",
        "\n",
        "plt.subplot(1,2,1)\n",
        "plt.plot(history.history['loss'], 'b-', label='loss')\n",
        "plt.plot(history.history['val_loss'], 'r--', label='val_loss')\n",
        "plt.xlabel('Epoch')\n",
        "plt.legend()\n",
        "\n",
        "plt.subplot(1,2,2)\n",
        "plt.plot(history.history['accuracy'], 'g-', label='accuracy')\n",
        "plt.plot(history.history['val_accuracy'], 'r--', label='val_accuracy')\n",
        "plt.xlabel('Epoch')\n",
        "plt.ylim(0.7, 1)\n",
        "plt.legend()\n",
        "\n",
        "plt.show()"
      ],
      "metadata": {
        "colab": {
          "base_uri": "https://localhost:8080/",
          "height": 283
        },
        "id": "C75dXs9vs3VF",
        "outputId": "402ad783-8ed0-464f-c302-5320b1d1c653"
      },
      "execution_count": null,
      "outputs": [
        {
          "output_type": "display_data",
          "data": {
            "image/png": "[encoded data removed]",
            "text/plain": [
              "<Figure size 864x288 with 2 Axes>"
            ]
          },
          "metadata": {
            "needs_background": "light"
          }
        }
      ]
    },
    {
      "cell_type": "markdown",
      "source": [
        "## **모델의 정확도 평가하기**"
      ],
      "metadata": {
        "id": "6NwpOGnVdxsn"
      }
    },
    {
      "cell_type": "code",
      "source": [
        "loss, accuracy = model.evaluate(test_images, test_labels)\n",
        "print('loss : ', loss)\n",
        "print('accuracy : ', accuracy)"
      ],
      "metadata": {
        "id": "lgXkSII2d0w2",
        "colab": {
          "base_uri": "https://localhost:8080/"
        },
        "outputId": "b1c07a00-3695-48f0-c813-c20637cd7d70"
      },
      "execution_count": null,
      "outputs": [
        {
          "output_type": "stream",
          "name": "stdout",
          "text": [
            "313/313 [==============================] - 1s 2ms/step - loss: 0.3741 - accuracy: 0.8665\n",
            "loss :  0.3741350471973419\n",
            "accuracy :  0.8665000200271606\n"
          ]
        }
      ]
    },
    {
      "cell_type": "markdown",
      "source": [
        "## **예측하기**"
      ],
      "metadata": {
        "id": "Zi01f9e7d_n2"
      }
    },
    {
      "cell_type": "code",
      "source": [
        "predictions = model.predict(test_images) # predictions : test_images에 대한 출력값\n",
        "print(predictions.shape)\n",
        "print(np.argmax(predictions[0]))"
      ],
      "metadata": {
        "id": "HNjiPcxUeDaW",
        "colab": {
          "base_uri": "https://localhost:8080/"
        },
        "outputId": "eec595e6-1847-42ff-ce0e-f2bd77a0a62d"
      },
      "execution_count": null,
      "outputs": [
        {
          "output_type": "stream",
          "name": "stdout",
          "text": [
            "(10000, 10)\n",
            "9\n"
          ]
        }
      ]
    },
    {
      "cell_type": "markdown",
      "source": [
        "# **모델 구성(Dense -> conv2d)**"
      ],
      "metadata": {
        "id": "mqH90mWVese8"
      }
    },
    {
      "cell_type": "code",
      "source": [
        "#기존 model을 유지하나 처음에 convolution layer가 추가되어있음 -> 시간은 더 오래걸리지만, 정확도는 더 높아짐\n",
        "model = tf.keras.models.Sequential([\n",
        "  tf.keras.layers.Conv2D(64, (3,3), activation='relu', input_shape=(28, 28, 1)),\n",
        "  tf.keras.layers.MaxPooling2D(2, 2),\n",
        "  tf.keras.layers.Dropout(0.3),\n",
        "  #Pooling 목적 : 과대적합을 피하기위해서\n",
        "  #maxpooling : 해당 부분의 최대값만 뽑아냄\n",
        "  tf.keras.layers.Conv2D(128, (3,3), activation='relu'), #64->128로 늘리니 정확도 증가함\n",
        "  tf.keras.layers.MaxPooling2D(2,2),\n",
        "  tf.keras.layers.Dropout(0.3),\n",
        "  tf.keras.layers.Flatten(),\n",
        "  tf.keras.layers.Dense(128, activation='relu'),\n",
        "  tf.keras.layers.Dropout(0.5),\n",
        "  tf.keras.layers.Dense(10, activation='softmax')\n",
        "])\n",
        "model.summary()"
      ],
      "metadata": {
        "id": "zwBnGIsLer8d",
        "colab": {
          "base_uri": "https://localhost:8080/"
        },
        "outputId": "92bac8ac-846a-4e95-cd80-87beaa76514a"
      },
      "execution_count": null,
      "outputs": [
        {
          "output_type": "stream",
          "name": "stdout",
          "text": [
            "Model: \"sequential_13\"\n",
            "_________________________________________________________________\n",
            " Layer (type)                Output Shape              Param #   \n",
            "=================================================================\n",
            " conv2d_14 (Conv2D)          (None, 26, 26, 64)        640       \n",
            "                                                                 \n",
            " max_pooling2d_14 (MaxPoolin  (None, 13, 13, 64)       0         \n",
            " g2D)                                                            \n",
            "                                                                 \n",
            " dropout (Dropout)           (None, 13, 13, 64)        0         \n",
            "                                                                 \n",
            " conv2d_15 (Conv2D)          (None, 11, 11, 128)       73856     \n",
            "                                                                 \n",
            " max_pooling2d_15 (MaxPoolin  (None, 5, 5, 128)        0         \n",
            " g2D)                                                            \n",
            "                                                                 \n",
            " dropout_1 (Dropout)         (None, 5, 5, 128)         0         \n",
            "                                                                 \n",
            " flatten_14 (Flatten)        (None, 3200)              0         \n",
            "                                                                 \n",
            " dense_27 (Dense)            (None, 128)               409728    \n",
            "                                                                 \n",
            " dropout_2 (Dropout)         (None, 128)               0         \n",
            "                                                                 \n",
            " dense_28 (Dense)            (None, 10)                1290      \n",
            "                                                                 \n",
            "=================================================================\n",
            "Total params: 485,514\n",
            "Trainable params: 485,514\n",
            "Non-trainable params: 0\n",
            "_________________________________________________________________\n"
          ]
        }
      ]
    },
    {
      "cell_type": "markdown",
      "source": [
        "## 모델 컴파일하기"
      ],
      "metadata": {
        "id": "wigk4r4BnMnF"
      }
    },
    {
      "cell_type": "code",
      "source": [
        "model.compile(optimizer='adam',\n",
        "              loss='sparse_categorical_crossentropy', \n",
        "              metrics=['accuracy'])"
      ],
      "metadata": {
        "id": "imyLq9e5nMxU"
      },
      "execution_count": null,
      "outputs": []
    },
    {
      "cell_type": "markdown",
      "source": [
        "## 모델 훈련하기"
      ],
      "metadata": {
        "id": "CSmATUVVnTc0"
      }
    },
    {
      "cell_type": "code",
      "source": [
        "history = model.fit(train_images, train_labels, epochs=5, validation_split=0.25) \n",
        "#batch_sizes default : 32"
      ],
      "metadata": {
        "id": "43gpq9FZnWd8",
        "colab": {
          "base_uri": "https://localhost:8080/"
        },
        "outputId": "4f58d516-ffc2-4077-f665-409a11afe395"
      },
      "execution_count": null,
      "outputs": [
        {
          "output_type": "stream",
          "name": "stdout",
          "text": [
            "Epoch 1/5\n",
            "1407/1407 [==============================] - 112s 79ms/step - loss: 0.6282 - accuracy: 0.7674 - val_loss: 0.4026 - val_accuracy: 0.8541\n",
            "Epoch 2/5\n",
            "1407/1407 [==============================] - 110s 78ms/step - loss: 0.4373 - accuracy: 0.8428 - val_loss: 0.3396 - val_accuracy: 0.8725\n",
            "Epoch 3/5\n",
            "1407/1407 [==============================] - 111s 79ms/step - loss: 0.3784 - accuracy: 0.8631 - val_loss: 0.3153 - val_accuracy: 0.8833\n",
            "Epoch 4/5\n",
            "1407/1407 [==============================] - 110s 78ms/step - loss: 0.3461 - accuracy: 0.8742 - val_loss: 0.2873 - val_accuracy: 0.8911\n",
            "Epoch 5/5\n",
            "1407/1407 [==============================] - 110s 78ms/step - loss: 0.3263 - accuracy: 0.8808 - val_loss: 0.2728 - val_accuracy: 0.8945\n"
          ]
        }
      ]
    },
    {
      "cell_type": "markdown",
      "source": [
        "## 모델 정확도 평가"
      ],
      "metadata": {
        "id": "BPEIwt7EngDA"
      }
    },
    {
      "cell_type": "code",
      "source": [
        "loss, accuracy = model.evaluate(test_images, test_labels)\n",
        "print('loss : ', loss)\n",
        "print('accuracy : ', accuracy)"
      ],
      "metadata": {
        "id": "CkOPludXngnT",
        "colab": {
          "base_uri": "https://localhost:8080/"
        },
        "outputId": "40be39ff-351b-4274-b77b-1453d1067f71"
      },
      "execution_count": null,
      "outputs": [
        {
          "output_type": "stream",
          "name": "stdout",
          "text": [
            "313/313 [==============================] - 6s 18ms/step - loss: 0.2894 - accuracy: 0.8900\n",
            "loss :  0.2893989384174347\n",
            "accuracy :  0.8899999856948853\n"
          ]
        }
      ]
    },
    {
      "cell_type": "markdown",
      "source": [
        "***dense->conv2d***\n",
        "\n",
        "정확도가 향상된 것을 확인할 수 있음\n",
        "\n",
        "\n",
        "---\n",
        "\n",
        "0.8960999846458435"
      ],
      "metadata": {
        "id": "0kXLROV9ngF7"
      }
    },
    {
      "cell_type": "markdown",
      "source": [
        "pytorch 실습에서 정확도보다 높은 결과임\n",
        "\n",
        "\n",
        "\n",
        "![image.png](data:image/png;base64,iVBORw0KGgoAAAANSUhEUgAAAj0AAAAcCAYAAACK/g67AAADiUlEQVR4nO3dUY7cIAyA4aTqSeb+Z5qrZB9Wo6YIiA0G7OH/pKrbnQkhgTgOEPW8rus6AEDiPFfXAIBXAdKJP6srAAAAMANJDwAA2MLf1RUAEFSAoWwAgwWb8makBwAAbIGkBwAAbCFs0vN6vf77I/1e6fu1MrT16i1zxHbpZz31LJ1TTZmlz63aAT5YXA/Wav3Xso7EAlmZxALMFHZNz/v97vpe7wWVbi+tT7qtdLtSfTX7tXLf5+v1EtVBkmjWypG014xz0drute2kZUrPtbQ+luer53rIldXap1JpOZKyteeGWPCLWDAuFnhq8+hCJT3SRKUlIdIkQT03jHTbEUF4Fs05m3ETHC1Xj9b2+/xOWqbnp94V7eO5T7RuSyyQ7cfD8a+IBR6O+xuESnp6gotVWT1ynbrU2Ufsd8SN815/Sfle2uI4/ARQzCPpp7NGCYgFxIInHusUXaik50Mz1FfrzJ6fnkd5Gi6VKgXt++eSbXK//2zLBf9r5I3Km9pTb+67T3JlaEbYvhmxADsKl/Q8JTGai6N1eiu339FqT0VPixbvw6MWgT0tQ1pu6cZdC5gjEUjtpGtTWhbEfrZNyyi1k8f2IxYQC3pYrP1DXbikpxZQV3UCq+RJuo/SZ+m+Rzy5lsrUBDtt3aQ3Ua9BIFd/zaJHr8d1V7pZPbVbLbFJy7C4Qdf+nf6uZX/EAmJBzVMs0KzpiRIbvAmX9ByHrkM/XSTf3GlqN5LW45YE3JzeNzYit1NtKmWXaasSSbvWbqyabSP3oV7EAh9ap1UjH7M3YZIe7Y2BYFeWG5K21jpMPXMExMuTUi4Ifv72UD+vODf9iAV2ZSCGMElPzzoeMml7LW/ARB6WXmXGNMVuPLy99U2IBeNx3dsJk/QcR/yGz811zz4mzdsxT2VovyPZ38zzMWI/2vrXvs8cvj2rh6RexAJiAdYIlfTkrOhUpfUE0vUJ2sWSFuuSWt6O8eDpbZTUyGNpXZBc265nkbMXrddD65R1z1S3NWLBPDvHgm+IE16c13Vdqyuh0TosOms49Z7dt2b6lttJgllLwBs1RcDTkXPn+e9nQeiwuB6szZreIhYc6rLScj30FzxQxoTVwiU9ABYKFuAADBYsJoT9X9YBAAA0SHoAAMAWSHoAAMAWwr+9BWCR+1w+AATASA8AANgCSQ8AANgC01sA5AK8kgoAJYz0AACALfwAGYLNR0ahvsIAAAAASUVORK5CYII=)"
      ],
      "metadata": {
        "id": "N9ddKl3qqdbL"
      }
    },
    {
      "cell_type": "markdown",
      "source": [
        "**시각화**"
      ],
      "metadata": {
        "id": "bVu8NwxOqBIS"
      }
    },
    {
      "cell_type": "code",
      "source": [
        "plt.figure(figsize=(12, 4))\n",
        "\n",
        "plt.subplot(1,2,1)\n",
        "plt.plot(history.history['loss'], 'b-', label='loss')\n",
        "plt.plot(history.history['val_loss'], 'r--', label='val_loss')\n",
        "plt.xlabel('Epoch')\n",
        "plt.legend()\n",
        "\n",
        "plt.subplot(1,2,2)\n",
        "plt.plot(history.history['accuracy'], 'g-', label='accuracy')\n",
        "plt.plot(history.history['val_accuracy'], 'r--', label='val_accuracy')\n",
        "plt.xlabel('Epoch')\n",
        "plt.ylim(0.7, 1)\n",
        "plt.legend()\n",
        "\n",
        "plt.show()"
      ],
      "metadata": {
        "id": "gjLXU1OHqAi8",
        "colab": {
          "base_uri": "https://localhost:8080/",
          "height": 283
        },
        "outputId": "7e85cf6a-36f2-45a3-e9e5-9cef6437d972"
      },
      "execution_count": null,
      "outputs": [
        {
          "output_type": "display_data",
          "data": {
            "image/png": "[encoded data removed]",
            "text/plain": [
              "<Figure size 864x288 with 2 Axes>"
            ]
          },
          "metadata": {
            "needs_background": "light"
          }
        }
      ]
    },
    {
      "cell_type": "markdown",
      "source": [
        "**예측하기(시각화)**"
      ],
      "metadata": {
        "id": "wfJeJb_PvB4M"
      }
    },
    {
      "cell_type": "code",
      "source": [
        "predictions = model.predict(test_images) # predictions : test_images에 대한 출력값\n",
        "print(predictions.shape)\n",
        "print(np.argmax(predictions[0]))"
      ],
      "metadata": {
        "id": "FK1uszRmvC8H",
        "colab": {
          "base_uri": "https://localhost:8080/"
        },
        "outputId": "31d07da5-78a0-4a67-eb75-a14383ed3669"
      },
      "execution_count": null,
      "outputs": [
        {
          "output_type": "stream",
          "name": "stdout",
          "text": [
            "(10000, 10)\n",
            "9\n"
          ]
        }
      ]
    },
    {
      "cell_type": "code",
      "source": [
        "fashion_mnist_labels = [\"T-shirt/top\",  # 인덱스 0\n",
        "                        \"Trouser\",      # 인덱스 1\n",
        "                        \"Pullover\",     # 인덱스 2\n",
        "                        \"Dress\",        # 인덱스 3\n",
        "                        \"Coat\",         # 인덱스 4\n",
        "                        \"Sandal\",       # 인덱스 5\n",
        "                        \"Shirt\",        # 인덱스 6\n",
        "                        \"Sneaker\",      # 인덱스 7\n",
        "                        \"Bag\",          # 인덱스 8\n",
        "                        \"Ankle boot\"]   # 인덱스 9\n",
        "\n",
        "# y_hat은 test 데이터셋 예측\n",
        "predictions = model.predict(test_images)\n",
        "# y_hat -> predictions\n",
        "#x_test -> test_images\n",
        "#y_test -> test_labels\n",
        "# 무작위 샘플로 10 개의 테스트 이미지와 예측 레이블 및 실제 레이블을 그려줍니다.\n",
        "figure = plt.figure(figsize=(20, 8))\n",
        "for i, index in enumerate(np.random.choice(test_images.shape[0], size=15, replace=False)):\n",
        "    ax = figure.add_subplot(3, 5, i + 1, xticks=[], yticks=[])\n",
        "    ax.imshow(np.squeeze(test_images[index])) # 각각의 이미지를 보여줌\n",
        "    predict_index = np.argmax(predictions[index])\n",
        "    true_index = np.argmax(test_labels[index]) # 각각의 이미지에 예측레이블 (실제레이블) 표시\n",
        "    ax.set_title(\"{} ({})\".format(fashion_mnist_labels[predict_index],\n",
        "                                  fashion_mnist_labels[true_index]),\n",
        "                                  color=(\"green\" if predict_index == true_index else \"red\"))"
      ],
      "metadata": {
        "id": "Qji3RQYauRfU",
        "colab": {
          "base_uri": "https://localhost:8080/",
          "height": 485
        },
        "outputId": "c829b7ad-9764-42a6-b3f6-0f8de3ddf2bd"
      },
      "execution_count": null,
      "outputs": [
        {
          "output_type": "display_data",
          "data": {
            "image/png": "[encoded data removed]",
            "text/plain": [
              "<Figure size 1440x576 with 15 Axes>"
            ]
          },
          "metadata": {}
        }
      ]
    },
    {
      "cell_type": "markdown",
      "source": [
        "# **Reference**\n",
        "1. https://codetorial.net/tensorflow/fashion_mnist_classification.html\n",
        "2. https://durian9s-coding-tree.tistory.com/2\n",
        "3. https://gooopy.tistory.com/55\n",
        "4. https://airsbigdata.tistory.com/219\n",
        "5. https://airsbigdata.tistory.com/219\n",
        "6. https://github.com/KerasKorea/KEKOxTutorial/blob/master/10_Fashion-MNIST%20with%20tf.Keras/10_%EB%94%A5%EB%9F%AC%EB%8B%9D%EC%9D%98%20Hello%20World%2C%20Fashion-MNIST.md"
      ],
      "metadata": {
        "id": "cwgmGd-VXWqP"
      }
    }
  ]
}