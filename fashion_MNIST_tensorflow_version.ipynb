{
  "nbformat": 4,
  "nbformat_minor": 0,
  "metadata": {
    "colab": {
      "name": "fashion MNIST_tensorflow version.ipynb",
      "provenance": [],
      "collapsed_sections": [],
      "authorship_tag": "ABX9TyMAy+/9dxuCvtkhMcVdwfxV",
      "include_colab_link": true
    },
    "kernelspec": {
      "name": "python3",
      "display_name": "Python 3"
    },
    "language_info": {
      "name": "python"
    },
    "accelerator": "GPU"
  },
  "cells": [
    {
      "cell_type": "markdown",
      "metadata": {
        "id": "view-in-github",
        "colab_type": "text"
      },
      "source": [
        "<a href=\"https://colab.research.google.com/github/seojeong-oh/mom-dad-lab/blob/main/fashion_MNIST_tensorflow_version.ipynb\" target=\"_parent\"><img src=\"https://colab.research.google.com/assets/colab-badge.svg\" alt=\"Open In Colab\"/></a>"
      ]
    },
    {
      "cell_type": "markdown",
      "source": [
        "# **필요한 모듈 불러오기**"
      ],
      "metadata": {
        "id": "75dUqSuceNP9"
      }
    },
    {
      "cell_type": "code",
      "source": [
        "import tensorflow as tf\n",
        "import numpy as np\n",
        "import matplotlib.pyplot as plt"
      ],
      "metadata": {
        "id": "dkRjdPcceKw2"
      },
      "execution_count": 25,
      "outputs": []
    },
    {
      "cell_type": "markdown",
      "source": [
        "# Fashion MNIST 데이터셋 불러오기"
      ],
      "metadata": {
        "id": "wFVOWpm3XKqH"
      }
    },
    {
      "cell_type": "code",
      "execution_count": 26,
      "metadata": {
        "id": "YMblbPCwQAGS"
      },
      "outputs": [],
      "source": [
        "fashion_mnist = tf.keras.datasets.fashion_mnist\n",
        "(train_images, train_labels), (test_images, test_labels) = fashion_mnist.load_data()"
      ]
    },
    {
      "cell_type": "markdown",
      "source": [
        "fashion_mnist 모듈은 데이터셋을 반환하는 load_data() 함수를 포함하는데, load_data() 함수를 호출하면 NumPy 어레이의 튜플을 반환함\n",
        "\n",
        "train_images와 train_labels는 Neural Network 모델의 훈련 (training)에 사용되고,\n",
        "\n",
        "test_images와 test_labels는 테스트 (test)에 사용"
      ],
      "metadata": {
        "id": "FcBEyAgyXWBf"
      }
    },
    {
      "cell_type": "code",
      "source": [
        "print(train_images.shape)\n",
        "print(train_labels.shape)\n",
        "print(test_images.shape)\n",
        "print(test_labels.shape)\n",
        "print(train_labels[:8])"
      ],
      "metadata": {
        "colab": {
          "base_uri": "https://localhost:8080/"
        },
        "id": "BMzt4_LaXQhs",
        "outputId": "5f269d34-fe1b-4b9e-c948-b34c4e014627"
      },
      "execution_count": 27,
      "outputs": [
        {
          "output_type": "stream",
          "name": "stdout",
          "text": [
            "(60000, 28, 28)\n",
            "(60000,)\n",
            "(10000, 28, 28)\n",
            "(10000,)\n",
            "[9 0 0 3 0 2 7 2]\n"
          ]
        }
      ]
    },
    {
      "cell_type": "markdown",
      "source": [
        "**images**\n",
        "\n",
        "*   train_images와 test_images는 각각 (28x28)의 형태를 갖는 60000개, 10000개 이미지의 어레이\n",
        "\n",
        "\n",
        "**labels**\n",
        "\n",
        "\n",
        "*   0에서 9까지의 정수 값은 이미지(옷)의 클래스를 나타내는 레이블\n",
        "\n",
        "각각의 레이블과 클래스는 아래와 같다.\n",
        "\n",
        "0 : T-shirt/top\n",
        "\n",
        "1 : Trouser\n",
        "\n",
        "2 : Pullover\n",
        "\n",
        "3 : Dress\n",
        "\n",
        "4 : Coat\n",
        "\n",
        "5 : Sandal\n",
        "\n",
        "6 : Shirt\n",
        "\n",
        "7 : Sneaker\n",
        "\n",
        "8 : Bag\n",
        "\n",
        "9 : Ankel boot\n"
      ],
      "metadata": {
        "id": "1Ya0f4JKX1IA"
      }
    },
    {
      "cell_type": "markdown",
      "source": [
        "# **데이터 전처리**"
      ],
      "metadata": {
        "id": "1EMmg-ytYq6m"
      }
    },
    {
      "cell_type": "code",
      "source": [
        "#0에서 255 사이의 값을 갖는 훈련/테스트 데이터들을 0.0~1.0 사이의 값을 갖도록 변환\n",
        "train_images, test_images = train_images / 255.0, test_images / 255.0"
      ],
      "metadata": {
        "id": "C-GQN0s-X7s3"
      },
      "execution_count": 28,
      "outputs": []
    },
    {
      "cell_type": "markdown",
      "source": [
        "# **모델 구성(layer 3개)**"
      ],
      "metadata": {
        "id": "57uWlr30Y0Gn"
      }
    },
    {
      "cell_type": "code",
      "source": [
        "model = tf.keras.models.Sequential([\n",
        "    tf.keras.layers.Flatten(input_shape=(28, 28, 1)),\n",
        "    tf.keras.layers.Dense(64, activation='relu'),\n",
        "    tf.keras.layers.Dense(10, activation='softmax')\n",
        "])\n",
        "model.summary()"
      ],
      "metadata": {
        "colab": {
          "base_uri": "https://localhost:8080/"
        },
        "id": "-aSjptIBY402",
        "outputId": "b3d9fb5c-5665-45ea-d45b-d758e8333ca8"
      },
      "execution_count": 42,
      "outputs": [
        {
          "output_type": "stream",
          "name": "stdout",
          "text": [
            "Model: \"sequential_5\"\n",
            "_________________________________________________________________\n",
            " Layer (type)                Output Shape              Param #   \n",
            "=================================================================\n",
            " flatten_5 (Flatten)         (None, 784)               0         \n",
            "                                                                 \n",
            " dense_10 (Dense)            (None, 64)                50240     \n",
            "                                                                 \n",
            " dense_11 (Dense)            (None, 10)                650       \n",
            "                                                                 \n",
            "=================================================================\n",
            "Total params: 50,890\n",
            "Trainable params: 50,890\n",
            "Non-trainable params: 0\n",
            "_________________________________________________________________\n"
          ]
        }
      ]
    },
    {
      "cell_type": "markdown",
      "source": [
        "relu함수를 은닉층(hidden layer)에서 많이 사용하는 이유 \n",
        "1. 기울기 소실 문제가 발생하지 않음\n",
        "2. 기존 활성화 함수에 비해 속도가 매우 빠름"
      ],
      "metadata": {
        "id": "wNfQt1AveHPm"
      }
    },
    {
      "cell_type": "markdown",
      "source": [
        "## **모델 컴파일하기**"
      ],
      "metadata": {
        "id": "sWr4QN1Saaru"
      }
    },
    {
      "cell_type": "markdown",
      "source": [
        "**loss function**\n",
        "\n",
        "Binary Crossentropy : 실제 레이블과 예측 레이블 간의 교차 엔트로피 손실을 계산한다. 레이블 클래스(0, 1로 가정)가 2개만 존재할 때 사용\n",
        "\n",
        "Categorical Crossentropy : 다중 분류 손실함수로 출력값이 one-hot encoding 된 결과로 나오고 실측 결과와의 비교시에도 실측 결과는 one-hot encoding 형태로 구성\n",
        "\n",
        "Sparse_Categorical_Crossentropy : 'categorical_entropy'처럼 다중 분류 손실함수이지만, 샘플 값은 정수형 자료\n",
        "샘플 값을 입력하는 부분에서 별도 원핫 인코딩을 하지 않고 정수값 그대로 줄 수 있다. 이런 자료를 사용할 때, 컴파일 단계에서 손실 함수만  'sparse_categorical_crossentropy'로 바꿔주면 된다."
      ],
      "metadata": {
        "id": "QBy4jIRgagK2"
      }
    },
    {
      "cell_type": "code",
      "source": [
        "model.compile(optimizer='adam', # 훈련 과정에서 모델의 오차를 측정하는데 사용\n",
        "              loss='sparse_categorical_crossentropy', # 데이터와 손실함수를 바탕으로 모델을 업데이트하는 방식\n",
        "              metrics=['accuracy']) #훈련과 테스트 단계를 평가하기 위해 사용"
      ],
      "metadata": {
        "id": "bEeVndI4aeSm"
      },
      "execution_count": 43,
      "outputs": []
    },
    {
      "cell_type": "markdown",
      "source": [
        "## **모델 훈련하기**"
      ],
      "metadata": {
        "id": "ORzfYnyJdCIe"
      }
    },
    {
      "cell_type": "code",
      "source": [
        "history = model.fit(train_images, train_labels, epochs=30, validation_split=0.25)\n",
        "                    #callbacks=[tf.keras.callbacks.EarlyStopping(patience=5, monitor='val_loss')],) # batch_sizes default값 32"
      ],
      "metadata": {
        "colab": {
          "base_uri": "https://localhost:8080/"
        },
        "id": "2s4bAK8Kc2cX",
        "outputId": "236ad403-8753-4f0b-d503-0e881a638367"
      },
      "execution_count": 45,
      "outputs": [
        {
          "output_type": "stream",
          "name": "stdout",
          "text": [
            "Epoch 1/30\n",
            "1407/1407 [==============================] - 6s 4ms/step - loss: 0.2087 - accuracy: 0.9234 - val_loss: 0.3555 - val_accuracy: 0.8819\n",
            "Epoch 2/30\n",
            "1407/1407 [==============================] - 5s 4ms/step - loss: 0.2045 - accuracy: 0.9248 - val_loss: 0.3587 - val_accuracy: 0.8821\n",
            "Epoch 3/30\n",
            "1407/1407 [==============================] - 6s 4ms/step - loss: 0.2020 - accuracy: 0.9246 - val_loss: 0.3462 - val_accuracy: 0.8861\n",
            "Epoch 4/30\n",
            "1407/1407 [==============================] - 6s 4ms/step - loss: 0.1963 - accuracy: 0.9273 - val_loss: 0.3724 - val_accuracy: 0.8816\n",
            "Epoch 5/30\n",
            "1407/1407 [==============================] - 7s 5ms/step - loss: 0.1916 - accuracy: 0.9278 - val_loss: 0.3749 - val_accuracy: 0.8806\n",
            "Epoch 6/30\n",
            "1407/1407 [==============================] - 6s 4ms/step - loss: 0.1883 - accuracy: 0.9298 - val_loss: 0.3602 - val_accuracy: 0.8880\n",
            "Epoch 7/30\n",
            "1407/1407 [==============================] - 5s 4ms/step - loss: 0.1861 - accuracy: 0.9312 - val_loss: 0.3528 - val_accuracy: 0.8888\n",
            "Epoch 8/30\n",
            "1407/1407 [==============================] - 6s 4ms/step - loss: 0.1828 - accuracy: 0.9316 - val_loss: 0.3672 - val_accuracy: 0.8883\n"
          ]
        }
      ]
    },
    {
      "cell_type": "markdown",
      "source": [
        "epochs : 60000개의 전체 이미지를 몇 번 학습할지 정하기"
      ],
      "metadata": {
        "id": "5GVU0BXDdJ9G"
      }
    },
    {
      "cell_type": "markdown",
      "source": [
        "**시각화**"
      ],
      "metadata": {
        "id": "Z1if4ck0s4Wj"
      }
    },
    {
      "cell_type": "code",
      "source": [
        "plt.figure(figsize=(12, 4))\n",
        "\n",
        "plt.subplot(1,2,1)\n",
        "plt.plot(history.history['loss'], 'b-', label='loss')\n",
        "plt.plot(history.history['val_loss'], 'r--', label='val_loss')\n",
        "plt.xlabel('Epoch')\n",
        "plt.legend()\n",
        "\n",
        "plt.subplot(1,2,2)\n",
        "plt.plot(history.history['accuracy'], 'g-', label='accuracy')\n",
        "plt.plot(history.history['val_accuracy'], 'r--', label='val_accuracy')\n",
        "plt.xlabel('Epoch')\n",
        "plt.ylim(0.7, 1)\n",
        "plt.legend()\n",
        "\n",
        "plt.show()"
      ],
      "metadata": {
        "colab": {
          "base_uri": "https://localhost:8080/",
          "height": 283
        },
        "id": "C75dXs9vs3VF",
        "outputId": "adadbf35-bbe4-4168-d762-847dbf8f11fd"
      },
      "execution_count": 32,
      "outputs": [
        {
          "output_type": "display_data",
          "data": {
            "image/png": "[encoded data removed]",
            "text/plain": [
              "<Figure size 864x288 with 2 Axes>"
            ]
          },
          "metadata": {
            "needs_background": "light"
          }
        }
      ]
    },
    {
      "cell_type": "markdown",
      "source": [
        "## **모델의 정확도 평가하기**"
      ],
      "metadata": {
        "id": "6NwpOGnVdxsn"
      }
    },
    {
      "cell_type": "code",
      "source": [
        "loss, accuracy = model.evaluate(test_images, test_labels)\n",
        "print('loss : ', loss)\n",
        "print('accuracy : ', accuracy)"
      ],
      "metadata": {
        "id": "lgXkSII2d0w2",
        "colab": {
          "base_uri": "https://localhost:8080/"
        },
        "outputId": "cd3b83a3-7f3f-4651-8381-ce0e763b751d"
      },
      "execution_count": 33,
      "outputs": [
        {
          "output_type": "stream",
          "name": "stdout",
          "text": [
            "313/313 [==============================] - 1s 3ms/step - loss: 0.3834 - accuracy: 0.8771\n",
            "loss :  0.3834213316440582\n",
            "accuracy :  0.8770999908447266\n"
          ]
        }
      ]
    },
    {
      "cell_type": "markdown",
      "source": [
        "## **학습결과 확인**"
      ],
      "metadata": {
        "id": "Zi01f9e7d_n2"
      }
    },
    {
      "cell_type": "code",
      "source": [
        "predictions = model.predict(test_images) # predictions : test_images에 대한 출력값\n",
        "print(predictions.shape)\n",
        "print(np.argmax(predictions[0]))"
      ],
      "metadata": {
        "id": "HNjiPcxUeDaW",
        "colab": {
          "base_uri": "https://localhost:8080/"
        },
        "outputId": "92c42f04-1319-449b-f517-0e9991644f73"
      },
      "execution_count": 34,
      "outputs": [
        {
          "output_type": "stream",
          "name": "stdout",
          "text": [
            "(10000, 10)\n",
            "9\n"
          ]
        }
      ]
    },
    {
      "cell_type": "markdown",
      "source": [
        "# **모델 구성(Dense -> conv2d)**"
      ],
      "metadata": {
        "id": "mqH90mWVese8"
      }
    },
    {
      "cell_type": "code",
      "source": [
        "#기존 model을 유지하나 처음에 convolution layer가 추가되어있음 -> 시간은 더 오래걸리지만, 정확도는 더 높아짐\n",
        "model = tf.keras.models.Sequential([\n",
        "  tf.keras.layers.Conv2D(64, (3,3), activation='relu', input_shape=(28, 28, 1)),\n",
        "  tf.keras.layers.MaxPooling2D(2, 2),\n",
        "  tf.keras.layers.Dropout(0.3),\n",
        "  #Pooling 목적 : 과대적합을 피하기위해서\n",
        "  #maxpooling : 해당 부분의 최대값만 뽑아냄\n",
        "  tf.keras.layers.Conv2D(128, (3,3), activation='relu'), #64->128로 늘리니 정확도 증가함\n",
        "  tf.keras.layers.MaxPooling2D(2,2),\n",
        "  tf.keras.layers.Dropout(0.3),#과적합 방지\n",
        "  tf.keras.layers.Flatten(),\n",
        "  tf.keras.layers.Dense(128, activation='relu'),\n",
        "  tf.keras.layers.Dropout(0.5),\n",
        "  tf.keras.layers.Dense(10, activation='softmax')\n",
        "])\n",
        "model.summary()"
      ],
      "metadata": {
        "id": "zwBnGIsLer8d",
        "colab": {
          "base_uri": "https://localhost:8080/"
        },
        "outputId": "ab77bebd-079f-4c42-925c-b4582e8784d0"
      },
      "execution_count": 35,
      "outputs": [
        {
          "output_type": "stream",
          "name": "stdout",
          "text": [
            "Model: \"sequential_4\"\n",
            "_________________________________________________________________\n",
            " Layer (type)                Output Shape              Param #   \n",
            "=================================================================\n",
            " conv2d_4 (Conv2D)           (None, 26, 26, 64)        640       \n",
            "                                                                 \n",
            " max_pooling2d_4 (MaxPooling  (None, 13, 13, 64)       0         \n",
            " 2D)                                                             \n",
            "                                                                 \n",
            " dropout_6 (Dropout)         (None, 13, 13, 64)        0         \n",
            "                                                                 \n",
            " conv2d_5 (Conv2D)           (None, 11, 11, 128)       73856     \n",
            "                                                                 \n",
            " max_pooling2d_5 (MaxPooling  (None, 5, 5, 128)        0         \n",
            " 2D)                                                             \n",
            "                                                                 \n",
            " dropout_7 (Dropout)         (None, 5, 5, 128)         0         \n",
            "                                                                 \n",
            " flatten_4 (Flatten)         (None, 3200)              0         \n",
            "                                                                 \n",
            " dense_8 (Dense)             (None, 128)               409728    \n",
            "                                                                 \n",
            " dropout_8 (Dropout)         (None, 128)               0         \n",
            "                                                                 \n",
            " dense_9 (Dense)             (None, 10)                1290      \n",
            "                                                                 \n",
            "=================================================================\n",
            "Total params: 485,514\n",
            "Trainable params: 485,514\n",
            "Non-trainable params: 0\n",
            "_________________________________________________________________\n"
          ]
        }
      ]
    },
    {
      "cell_type": "markdown",
      "source": [
        "## 모델 컴파일하기"
      ],
      "metadata": {
        "id": "wigk4r4BnMnF"
      }
    },
    {
      "cell_type": "code",
      "source": [
        "model.compile(optimizer='adam',\n",
        "              loss='sparse_categorical_crossentropy', \n",
        "              metrics=['accuracy'])"
      ],
      "metadata": {
        "id": "imyLq9e5nMxU"
      },
      "execution_count": 36,
      "outputs": []
    },
    {
      "cell_type": "markdown",
      "source": [
        "## 모델 훈련하기"
      ],
      "metadata": {
        "id": "CSmATUVVnTc0"
      }
    },
    {
      "cell_type": "code",
      "source": [
        "history = model.fit(train_images, train_labels, epochs=30, validation_split=0.25,\n",
        "                    callbacks=[tf.keras.callbacks.EarlyStopping(patience=15, monitor='val_loss')]) \n",
        "#batch_sizes default : 32"
      ],
      "metadata": {
        "id": "43gpq9FZnWd8",
        "colab": {
          "base_uri": "https://localhost:8080/"
        },
        "outputId": "a30d8115-c534-45af-f788-94a22d8ce860"
      },
      "execution_count": 37,
      "outputs": [
        {
          "output_type": "stream",
          "name": "stdout",
          "text": [
            "Epoch 1/30\n",
            "1407/1407 [==============================] - 14s 9ms/step - loss: 0.6246 - accuracy: 0.7726 - val_loss: 0.3842 - val_accuracy: 0.8572\n",
            "Epoch 2/30\n",
            "1407/1407 [==============================] - 14s 10ms/step - loss: 0.4297 - accuracy: 0.8462 - val_loss: 0.3486 - val_accuracy: 0.8727\n",
            "Epoch 3/30\n",
            "1407/1407 [==============================] - 13s 9ms/step - loss: 0.3733 - accuracy: 0.8632 - val_loss: 0.3052 - val_accuracy: 0.8850\n",
            "Epoch 4/30\n",
            "1407/1407 [==============================] - 14s 10ms/step - loss: 0.3436 - accuracy: 0.8746 - val_loss: 0.2852 - val_accuracy: 0.8926\n",
            "Epoch 5/30\n",
            "1407/1407 [==============================] - 14s 10ms/step - loss: 0.3236 - accuracy: 0.8818 - val_loss: 0.2811 - val_accuracy: 0.8934\n",
            "Epoch 6/30\n",
            "1407/1407 [==============================] - 13s 9ms/step - loss: 0.3106 - accuracy: 0.8859 - val_loss: 0.2636 - val_accuracy: 0.9009\n",
            "Epoch 7/30\n",
            "1407/1407 [==============================] - 14s 10ms/step - loss: 0.2932 - accuracy: 0.8926 - val_loss: 0.2608 - val_accuracy: 0.9022\n",
            "Epoch 8/30\n",
            "1407/1407 [==============================] - 13s 9ms/step - loss: 0.2865 - accuracy: 0.8947 - val_loss: 0.2768 - val_accuracy: 0.8942\n",
            "Epoch 9/30\n",
            "1407/1407 [==============================] - 14s 10ms/step - loss: 0.2752 - accuracy: 0.8970 - val_loss: 0.2506 - val_accuracy: 0.9075\n",
            "Epoch 10/30\n",
            "1407/1407 [==============================] - 13s 9ms/step - loss: 0.2723 - accuracy: 0.8980 - val_loss: 0.2532 - val_accuracy: 0.9046\n",
            "Epoch 11/30\n",
            "1407/1407 [==============================] - 14s 10ms/step - loss: 0.2633 - accuracy: 0.9001 - val_loss: 0.2527 - val_accuracy: 0.9086\n",
            "Epoch 12/30\n",
            "1407/1407 [==============================] - 14s 10ms/step - loss: 0.2596 - accuracy: 0.9021 - val_loss: 0.2420 - val_accuracy: 0.9099\n",
            "Epoch 13/30\n",
            "1407/1407 [==============================] - 14s 10ms/step - loss: 0.2512 - accuracy: 0.9048 - val_loss: 0.2474 - val_accuracy: 0.9087\n",
            "Epoch 14/30\n",
            "1407/1407 [==============================] - 13s 9ms/step - loss: 0.2515 - accuracy: 0.9071 - val_loss: 0.2397 - val_accuracy: 0.9126\n",
            "Epoch 15/30\n",
            "1407/1407 [==============================] - 14s 10ms/step - loss: 0.2413 - accuracy: 0.9082 - val_loss: 0.2373 - val_accuracy: 0.9125\n",
            "Epoch 16/30\n",
            "1407/1407 [==============================] - 13s 9ms/step - loss: 0.2361 - accuracy: 0.9099 - val_loss: 0.2330 - val_accuracy: 0.9147\n",
            "Epoch 17/30\n",
            "1407/1407 [==============================] - 14s 10ms/step - loss: 0.2378 - accuracy: 0.9125 - val_loss: 0.2323 - val_accuracy: 0.9129\n",
            "Epoch 18/30\n",
            "1407/1407 [==============================] - 14s 10ms/step - loss: 0.2344 - accuracy: 0.9118 - val_loss: 0.2408 - val_accuracy: 0.9122\n",
            "Epoch 19/30\n",
            "1407/1407 [==============================] - 13s 9ms/step - loss: 0.2274 - accuracy: 0.9143 - val_loss: 0.2363 - val_accuracy: 0.9135\n",
            "Epoch 20/30\n",
            "1407/1407 [==============================] - 14s 10ms/step - loss: 0.2283 - accuracy: 0.9135 - val_loss: 0.2466 - val_accuracy: 0.9105\n",
            "Epoch 21/30\n",
            "1407/1407 [==============================] - 14s 10ms/step - loss: 0.2247 - accuracy: 0.9156 - val_loss: 0.2334 - val_accuracy: 0.9137\n",
            "Epoch 22/30\n",
            "1407/1407 [==============================] - 13s 9ms/step - loss: 0.2204 - accuracy: 0.9155 - val_loss: 0.2516 - val_accuracy: 0.9113\n",
            "Epoch 23/30\n",
            "1407/1407 [==============================] - 14s 10ms/step - loss: 0.2146 - accuracy: 0.9198 - val_loss: 0.2416 - val_accuracy: 0.9158\n",
            "Epoch 24/30\n",
            "1407/1407 [==============================] - 14s 10ms/step - loss: 0.2111 - accuracy: 0.9201 - val_loss: 0.2384 - val_accuracy: 0.9155\n",
            "Epoch 25/30\n",
            "1407/1407 [==============================] - 14s 10ms/step - loss: 0.2117 - accuracy: 0.9203 - val_loss: 0.2492 - val_accuracy: 0.9096\n",
            "Epoch 26/30\n",
            "1407/1407 [==============================] - 14s 10ms/step - loss: 0.2150 - accuracy: 0.9179 - val_loss: 0.2302 - val_accuracy: 0.9167\n",
            "Epoch 27/30\n",
            "1407/1407 [==============================] - 14s 10ms/step - loss: 0.2063 - accuracy: 0.9230 - val_loss: 0.2390 - val_accuracy: 0.9181\n",
            "Epoch 28/30\n",
            "1407/1407 [==============================] - 14s 10ms/step - loss: 0.2100 - accuracy: 0.9194 - val_loss: 0.2422 - val_accuracy: 0.9139\n",
            "Epoch 29/30\n",
            "1407/1407 [==============================] - 14s 10ms/step - loss: 0.2049 - accuracy: 0.9217 - val_loss: 0.2430 - val_accuracy: 0.9128\n",
            "Epoch 30/30\n",
            "1407/1407 [==============================] - 14s 10ms/step - loss: 0.2056 - accuracy: 0.9214 - val_loss: 0.2351 - val_accuracy: 0.9165\n"
          ]
        }
      ]
    },
    {
      "cell_type": "markdown",
      "source": [
        "## 모델 정확도 평가"
      ],
      "metadata": {
        "id": "BPEIwt7EngDA"
      }
    },
    {
      "cell_type": "code",
      "source": [
        "loss, accuracy = model.evaluate(test_images, test_labels)\n",
        "print('loss : ', loss)\n",
        "print('accuracy : ', accuracy)"
      ],
      "metadata": {
        "id": "CkOPludXngnT",
        "colab": {
          "base_uri": "https://localhost:8080/"
        },
        "outputId": "413eca47-4eb7-432d-8bab-bec7002f2682"
      },
      "execution_count": 38,
      "outputs": [
        {
          "output_type": "stream",
          "name": "stdout",
          "text": [
            "313/313 [==============================] - 1s 4ms/step - loss: 0.2628 - accuracy: 0.9132\n",
            "loss :  0.26284271478652954\n",
            "accuracy :  0.9132000207901001\n"
          ]
        }
      ]
    },
    {
      "cell_type": "code",
      "source": [
        "plt.figure(figsize=(12, 4))\n",
        "\n",
        "plt.subplot(1,2,1)\n",
        "plt.plot(history.history['loss'], 'b-', label='loss')\n",
        "plt.plot(history.history['val_loss'], 'r--', label='val_loss')\n",
        "plt.xlabel('Epoch')\n",
        "plt.legend()\n",
        "\n",
        "plt.subplot(1,2,2)\n",
        "plt.plot(history.history['accuracy'], 'g-', label='accuracy')\n",
        "plt.plot(history.history['val_accuracy'], 'r--', label='val_accuracy')\n",
        "plt.xlabel('Epoch')\n",
        "plt.ylim(0.7, 1)\n",
        "plt.legend()\n",
        "\n",
        "plt.show()"
      ],
      "metadata": {
        "id": "gjLXU1OHqAi8",
        "colab": {
          "base_uri": "https://localhost:8080/",
          "height": 283
        },
        "outputId": "99967c46-2bc6-4818-8169-039d8fa23122"
      },
      "execution_count": 39,
      "outputs": [
        {
          "output_type": "display_data",
          "data": {
            "image/png": "[encoded data removed]",
            "text/plain": [
              "<Figure size 864x288 with 2 Axes>"
            ]
          },
          "metadata": {
            "needs_background": "light"
          }
        }
      ]
    },
    {
      "cell_type": "markdown",
      "source": [
        "***dense->conv2d***\n",
        "\n",
        "정확도가 향상 및 과적합도 줄어듦\n",
        "\n"
      ],
      "metadata": {
        "id": "0kXLROV9ngF7"
      }
    },
    {
      "cell_type": "markdown",
      "source": [
        "pytorch 실습에서 정확도보다 높은 결과임\n",
        "\n",
        "\n",
        "\n",
        "![image.png](data:image/png;base64,iVBORw0KGgoAAAANSUhEUgAAAj0AAAAcCAYAAACK/g67AAADiUlEQVR4nO3dUY7cIAyA4aTqSeb+Z5qrZB9Wo6YIiA0G7OH/pKrbnQkhgTgOEPW8rus6AEDiPFfXAIBXAdKJP6srAAAAMANJDwAA2MLf1RUAEFSAoWwAgwWb8makBwAAbIGkBwAAbCFs0vN6vf77I/1e6fu1MrT16i1zxHbpZz31LJ1TTZmlz63aAT5YXA/Wav3Xso7EAlmZxALMFHZNz/v97vpe7wWVbi+tT7qtdLtSfTX7tXLf5+v1EtVBkmjWypG014xz0drute2kZUrPtbQ+luer53rIldXap1JpOZKyteeGWPCLWDAuFnhq8+hCJT3SRKUlIdIkQT03jHTbEUF4Fs05m3ETHC1Xj9b2+/xOWqbnp94V7eO5T7RuSyyQ7cfD8a+IBR6O+xuESnp6gotVWT1ynbrU2Ufsd8SN815/Sfle2uI4/ARQzCPpp7NGCYgFxIInHusUXaik50Mz1FfrzJ6fnkd5Gi6VKgXt++eSbXK//2zLBf9r5I3Km9pTb+67T3JlaEbYvhmxADsKl/Q8JTGai6N1eiu339FqT0VPixbvw6MWgT0tQ1pu6cZdC5gjEUjtpGtTWhbEfrZNyyi1k8f2IxYQC3pYrP1DXbikpxZQV3UCq+RJuo/SZ+m+Rzy5lsrUBDtt3aQ3Ua9BIFd/zaJHr8d1V7pZPbVbLbFJy7C4Qdf+nf6uZX/EAmJBzVMs0KzpiRIbvAmX9ByHrkM/XSTf3GlqN5LW45YE3JzeNzYit1NtKmWXaasSSbvWbqyabSP3oV7EAh9ap1UjH7M3YZIe7Y2BYFeWG5K21jpMPXMExMuTUi4Ifv72UD+vODf9iAV2ZSCGMElPzzoeMml7LW/ARB6WXmXGNMVuPLy99U2IBeNx3dsJk/QcR/yGz811zz4mzdsxT2VovyPZ38zzMWI/2vrXvs8cvj2rh6RexAJiAdYIlfTkrOhUpfUE0vUJ2sWSFuuSWt6O8eDpbZTUyGNpXZBc265nkbMXrddD65R1z1S3NWLBPDvHgm+IE16c13Vdqyuh0TosOms49Z7dt2b6lttJgllLwBs1RcDTkXPn+e9nQeiwuB6szZreIhYc6rLScj30FzxQxoTVwiU9ABYKFuAADBYsJoT9X9YBAAA0SHoAAMAWSHoAAMAWwr+9BWCR+1w+AATASA8AANgCSQ8AANgC01sA5AK8kgoAJYz0AACALfwAGYLNR0ahvsIAAAAASUVORK5CYII=)"
      ],
      "metadata": {
        "id": "N9ddKl3qqdbL"
      }
    },
    {
      "cell_type": "markdown",
      "source": [
        "**시각화**"
      ],
      "metadata": {
        "id": "bVu8NwxOqBIS"
      }
    },
    {
      "cell_type": "markdown",
      "source": [
        "**예측하기(시각화)**"
      ],
      "metadata": {
        "id": "wfJeJb_PvB4M"
      }
    },
    {
      "cell_type": "code",
      "source": [
        "predictions = model.predict(test_images) # predictions : test_images에 대한 출력값\n",
        "print(predictions.shape)\n",
        "print(np.argmax(predictions[0]))"
      ],
      "metadata": {
        "id": "FK1uszRmvC8H",
        "colab": {
          "base_uri": "https://localhost:8080/"
        },
        "outputId": "720b49fd-54fd-4e31-bcf0-f8bfc2c72072"
      },
      "execution_count": 40,
      "outputs": [
        {
          "output_type": "stream",
          "name": "stdout",
          "text": [
            "(10000, 10)\n",
            "9\n"
          ]
        }
      ]
    },
    {
      "cell_type": "code",
      "source": [
        "fashion_mnist_labels = [\"T-shirt/top\",  # 인덱스 0\n",
        "                        \"Trouser\",      # 인덱스 1\n",
        "                        \"Pullover\",     # 인덱스 2\n",
        "                        \"Dress\",        # 인덱스 3\n",
        "                        \"Coat\",         # 인덱스 4\n",
        "                        \"Sandal\",       # 인덱스 5\n",
        "                        \"Shirt\",        # 인덱스 6\n",
        "                        \"Sneaker\",      # 인덱스 7\n",
        "                        \"Bag\",          # 인덱스 8\n",
        "                        \"Ankle boot\"]   # 인덱스 9\n",
        "\n",
        "# y_hat은 test 데이터셋 예측\n",
        "predictions = model.predict(test_images)\n",
        "# y_hat -> predictions\n",
        "#x_test -> test_images\n",
        "#y_test -> test_labels\n",
        "# 무작위 샘플로 10 개의 테스트 이미지와 예측 레이블 및 실제 레이블을 그려줍니다.\n",
        "figure = plt.figure(figsize=(20, 8))\n",
        "for i, index in enumerate(np.random.choice(test_images.shape[0], size=15, replace=False)):\n",
        "    ax = figure.add_subplot(3, 5, i + 1, xticks=[], yticks=[])\n",
        "    ax.imshow(np.squeeze(test_images[index])) # 각각의 이미지를 보여줌\n",
        "    predict_index = np.argmax(predictions[index])\n",
        "    true_index = np.argmax(test_labels[index]) # 각각의 이미지에 예측레이블 (실제레이블) 표시\n",
        "    ax.set_title(\"{} ({})\".format(fashion_mnist_labels[predict_index],\n",
        "                                  fashion_mnist_labels[true_index]),\n",
        "                                  color=(\"green\" if predict_index == true_index else \"red\"))"
      ],
      "metadata": {
        "id": "Qji3RQYauRfU",
        "colab": {
          "base_uri": "https://localhost:8080/",
          "height": 485
        },
        "outputId": "367306b9-38fa-4dc9-922c-44a855a73e02"
      },
      "execution_count": 41,
      "outputs": [
        {
          "output_type": "display_data",
          "data": {
            "image/png": "[encoded data removed]",
            "text/plain": [
              "<Figure size 1440x576 with 15 Axes>"
            ]
          },
          "metadata": {}
        }
      ]
    },
    {
      "cell_type": "markdown",
      "source": [
        "# **Reference**\n",
        "1. https://codetorial.net/tensorflow/fashion_mnist_classification.html\n",
        "2. https://durian9s-coding-tree.tistory.com/2\n",
        "3. https://gooopy.tistory.com/55\n",
        "4. https://airsbigdata.tistory.com/219\n",
        "5. https://airsbigdata.tistory.com/219\n",
        "6. https://github.com/KerasKorea/KEKOxTutorial/blob/master/10_Fashion-MNIST%20with%20tf.Keras/10_%EB%94%A5%EB%9F%AC%EB%8B%9D%EC%9D%98%20Hello%20World%2C%20Fashion-MNIST.md"
      ],
      "metadata": {
        "id": "cwgmGd-VXWqP"
      }
    }
  ]
}